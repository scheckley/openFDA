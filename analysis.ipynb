{
 "cells": [
  {
   "cell_type": "markdown",
   "metadata": {},
   "source": []
  },
  {
   "cell_type": "markdown",
   "metadata": {},
   "source": [
    "### Setting up the Python environment"
   ]
  },
  {
   "cell_type": "code",
   "execution_count": 28,
   "metadata": {},
   "outputs": [],
   "source": [
    "import requests\n",
    "import pandas as pd\n",
    "\n",
    "pd.set_option('display.max_colwidth', -1)"
   ]
  },
  {
   "cell_type": "code",
   "execution_count": 29,
   "metadata": {},
   "outputs": [],
   "source": [
    "# helper function to flatten a list of lists\n",
    "\n",
    "from collections import Iterable\n",
    "\n",
    "def flatten(items):\n",
    "    \"\"\" Yield items from any nested iterable \"\"\"\n",
    "    for x in items:\n",
    "        if isinstance(x, Iterable) and not isinstance(x, (str, bytes)):\n",
    "            yield from flatten(x)\n",
    "        else:\n",
    "            yield x"
   ]
  },
  {
   "cell_type": "markdown",
   "metadata": {},
   "source": [
    "# Part A"
   ]
  },
  {
   "cell_type": "markdown",
   "metadata": {},
   "source": [
    "Use the data from the OpenFDA API to determine the average number of ingredients (`spl_product_data_elements`) fpr a pharma company in medicines, per year."
   ]
  },
  {
   "cell_type": "code",
   "execution_count": 115,
   "metadata": {},
   "outputs": [],
   "source": [
    "# build a request to the openFDA API\n",
    "\n",
    "max_requests = '10' # a small sample of the data for exploration during this exercise\n",
    "\n",
    "pharma = str('\"AstraZeneca\"')\n",
    "\n",
    "URL = str('https://api.fda.gov/drug/label.json?search=effective_time:[20180101+TO+20181231]+AND+spl_patient_package_insert:'+pharma+'AND+_exists_:spl_product_data_elements+AND+_exists_:openfda+&limit='+max_requests)\n",
    "\n",
    "data = requests.get(URL).json()"
   ]
  },
  {
   "cell_type": "code",
   "execution_count": 116,
   "metadata": {},
   "outputs": [],
   "source": [
    "# the data returned contains subset of 'meta' and 'result', for this exercise we're only interested in 'results'\n",
    "data = data.get('results', [])"
   ]
  },
  {
   "cell_type": "code",
   "execution_count": 5,
   "metadata": {},
   "outputs": [],
   "source": [
    "date = []\n",
    "drug = []\n",
    "ingredients = []\n",
    "route = [] # for part B"
   ]
  },
  {
   "cell_type": "markdown",
   "metadata": {},
   "source": [
    "Extract the relevant sections from the json data returned by the API."
   ]
  },
  {
   "cell_type": "code",
   "execution_count": 6,
   "metadata": {},
   "outputs": [],
   "source": [
    "for i in range(0,int(max_requests)):\n",
    "    date.append(data[i]['effective_time'])\n",
    "    drug.append(data[i]['openfda']['substance_name'])\n",
    "    route.append(data[i]['openfda']['route']) # for part B\n",
    "    ingredients.append(data[i]['spl_product_data_elements'])"
   ]
  },
  {
   "cell_type": "markdown",
   "metadata": {},
   "source": [
    "The API returns ingredients in *spl_product_data_elements* as white space separated terms. For counting I am replacing the white space separation with comma and then transforming the list into a set in order to remove duplicates (see note below part A regarding this approach)."
   ]
  },
  {
   "cell_type": "code",
   "execution_count": 7,
   "metadata": {},
   "outputs": [],
   "source": [
    "for i in range(0,int(max_requests)):\n",
    "    ingredients[i] = ingredients[i][0].split()\n",
    "    ingredients[i] = list(set(ingredients[i]))"
   ]
  },
  {
   "cell_type": "code",
   "execution_count": 8,
   "metadata": {},
   "outputs": [],
   "source": [
    "drug = flatten(drug) # flatten the list of lists of drug names.\n",
    "drug = list(drug) #and return as 1 list of drugs names.\n",
    "\n",
    "#for part B\n",
    "route = flatten(route) #as above for list of delivery routes.\n",
    "route = list(route)"
   ]
  },
  {
   "cell_type": "markdown",
   "metadata": {},
   "source": [
    "Transfer the lists extracted from the json data into a Pandas dataframe for ease of viewing and processing"
   ]
  },
  {
   "cell_type": "code",
   "execution_count": 9,
   "metadata": {},
   "outputs": [],
   "source": [
    "out = pd.DataFrame()\n",
    "out['date'] = date\n",
    "out['date'] = pd.to_datetime(out['date'])\n",
    "out['drug'] = drug\n",
    "out['route'] = route # for part B\n",
    "out['ingredients'] = ingredients\n",
    "out['count'] = out['ingredients'].apply(lambda x: len(str(x).split(',')))\n",
    "out['year'] = out['date'].dt.year"
   ]
  },
  {
   "cell_type": "code",
   "execution_count": 10,
   "metadata": {},
   "outputs": [
    {
     "data": {
      "text/html": [
       "<div>\n",
       "<style scoped>\n",
       "    .dataframe tbody tr th:only-of-type {\n",
       "        vertical-align: middle;\n",
       "    }\n",
       "\n",
       "    .dataframe tbody tr th {\n",
       "        vertical-align: top;\n",
       "    }\n",
       "\n",
       "    .dataframe thead th {\n",
       "        text-align: right;\n",
       "    }\n",
       "</style>\n",
       "<table border=\"1\" class=\"dataframe\">\n",
       "  <thead>\n",
       "    <tr style=\"text-align: right;\">\n",
       "      <th></th>\n",
       "      <th>date</th>\n",
       "      <th>drug</th>\n",
       "      <th>route</th>\n",
       "      <th>ingredients</th>\n",
       "      <th>count</th>\n",
       "      <th>year</th>\n",
       "    </tr>\n",
       "  </thead>\n",
       "  <tbody>\n",
       "    <tr>\n",
       "      <th>0</th>\n",
       "      <td>2018-10-22</td>\n",
       "      <td>ROSUVASTATIN CALCIUM</td>\n",
       "      <td>ORAL</td>\n",
       "      <td>[Calcium, MICROCRYSTALLINE, CALCIUM, FERRIC, TRIACETIN, MPA.S), Biconvex, I;32, CELLULOSE, PHOSPHATE, 2910, AT, Rosuvastatin, CROSPOVIDONE, I;29, OXIDE, MAGNESIUM, STEARATE, ANHYDROUS, DIBASIC, MONOHYDRATE, (15, TITANIUM, DIOXIDE, ROSUVASTATIN, RED, LACTOSE, MPA.S, 5%), HYPROMELLOSE]</td>\n",
       "      <td>30</td>\n",
       "      <td>2018</td>\n",
       "    </tr>\n",
       "    <tr>\n",
       "      <th>1</th>\n",
       "      <td>2018-12-20</td>\n",
       "      <td>ROSUVASTATIN CALCIUM</td>\n",
       "      <td>ORAL</td>\n",
       "      <td>[MICROCRYSTALLINE, CALCIUM, TRIACETIN, FERRIC, CELLULOSE, PHOSPHATE, HYPROMELLOSE,, calcium, Rosuvastatin, AT, biconvex, CROSPOVIDONE, MAGNESIUM, OXIDE, STEARATE, CRESTOR, MONOHYDRATE, (15, TITANIUM, DIOXIDE, 10;crestor, ROSUVASTATIN, TRIBASIC, LACTOSE, RED, UNSPECIFIED, MPA.S, 5%)]</td>\n",
       "      <td>29</td>\n",
       "      <td>2018</td>\n",
       "    </tr>\n",
       "    <tr>\n",
       "      <th>2</th>\n",
       "      <td>2018-12-01</td>\n",
       "      <td>ROSUVASTATIN CALCIUM</td>\n",
       "      <td>ORAL</td>\n",
       "      <td>[Calcium, MICROCRYSTALLINE, CALCIUM, FERRIC, TRIACETIN, MPA.S), Biconvex, I;32, CELLULOSE, I;31, PHOSPHATE, 2910, AT, Rosuvastatin, CROSPOVIDONE, I;29, OXIDE, MAGNESIUM, STEARATE, ANHYDROUS, DIBASIC, MONOHYDRATE, (15, TITANIUM, DIOXIDE, ROSUVASTATIN, RED, LACTOSE, I;30, MPA.S, 5%), HYPROMELLOSE]</td>\n",
       "      <td>32</td>\n",
       "      <td>2018</td>\n",
       "    </tr>\n",
       "    <tr>\n",
       "      <th>3</th>\n",
       "      <td>2018-12-06</td>\n",
       "      <td>ROSUVASTATIN CALCIUM</td>\n",
       "      <td>ORAL</td>\n",
       "      <td>[Calcium, MICROCRYSTALLINE, CALCIUM, FERRIC, TRIACETIN, MPA.S), Biconvex, I;32, CELLULOSE, PHOSPHATE, 2910, Rosuvastatin, CROSPOVIDONE, OXIDE, MAGNESIUM, STEARATE, ANHYDROUS, DIBASIC, MONOHYDRATE, (15, TITANIUM, DIOXIDE, ROSUVASTATIN, RED, LACTOSE, HYPROMELLOSE]</td>\n",
       "      <td>26</td>\n",
       "      <td>2018</td>\n",
       "    </tr>\n",
       "    <tr>\n",
       "      <th>4</th>\n",
       "      <td>2018-03-02</td>\n",
       "      <td>ZOLMITRIPTAN</td>\n",
       "      <td>ORAL</td>\n",
       "      <td>[(1600000, GLYCOL, HYDROXYPROPYL, SILICON, flatfaced;, WAMW), Zolmitriptan, MICROCRYSTALLINE, TYPE, FERRIC, BICARBONATE, CELLULOSE, ZOMIG;5, SODIUM, POLYETHYLENE, Disintegrating, GLYCOLATE, ASPARTAME, AT, ACID, 8000, YELLOW, filmcoated, WATER, CROSPOVIDONE, Z, MAGNESIUM, OXIDE, CITRIC, ZOLMITRIPTAN, STEARATE, ANHYDROUS, A, bevelled, TITANIUM, (15, DIOXIDE, ORANGE, MANNITOL, ZOMIG;25, LACTOSE, RED, biconvex;, Z;5, STARCH, POTATO, MPA.S, 5%), 400, Orally]</td>\n",
       "      <td>50</td>\n",
       "      <td>2018</td>\n",
       "    </tr>\n",
       "  </tbody>\n",
       "</table>\n",
       "</div>"
      ],
      "text/plain": [
       "        date                  drug route  \\\n",
       "0 2018-10-22  ROSUVASTATIN CALCIUM  ORAL   \n",
       "1 2018-12-20  ROSUVASTATIN CALCIUM  ORAL   \n",
       "2 2018-12-01  ROSUVASTATIN CALCIUM  ORAL   \n",
       "3 2018-12-06  ROSUVASTATIN CALCIUM  ORAL   \n",
       "4 2018-03-02  ZOLMITRIPTAN          ORAL   \n",
       "\n",
       "                                                                                                                                                                                                                                                                                                                                                                                                                                                                 ingredients  \\\n",
       "0  [Calcium, MICROCRYSTALLINE, CALCIUM, FERRIC, TRIACETIN, MPA.S), Biconvex, I;32, CELLULOSE, PHOSPHATE, 2910, AT, Rosuvastatin, CROSPOVIDONE, I;29, OXIDE, MAGNESIUM, STEARATE, ANHYDROUS, DIBASIC, MONOHYDRATE, (15, TITANIUM, DIOXIDE, ROSUVASTATIN, RED, LACTOSE, MPA.S, 5%), HYPROMELLOSE]                                                                                                                                                                                \n",
       "1  [MICROCRYSTALLINE, CALCIUM, TRIACETIN, FERRIC, CELLULOSE, PHOSPHATE, HYPROMELLOSE,, calcium, Rosuvastatin, AT, biconvex, CROSPOVIDONE, MAGNESIUM, OXIDE, STEARATE, CRESTOR, MONOHYDRATE, (15, TITANIUM, DIOXIDE, 10;crestor, ROSUVASTATIN, TRIBASIC, LACTOSE, RED, UNSPECIFIED, MPA.S, 5%)]                                                                                                                                                                                 \n",
       "2  [Calcium, MICROCRYSTALLINE, CALCIUM, FERRIC, TRIACETIN, MPA.S), Biconvex, I;32, CELLULOSE, I;31, PHOSPHATE, 2910, AT, Rosuvastatin, CROSPOVIDONE, I;29, OXIDE, MAGNESIUM, STEARATE, ANHYDROUS, DIBASIC, MONOHYDRATE, (15, TITANIUM, DIOXIDE, ROSUVASTATIN, RED, LACTOSE, I;30, MPA.S, 5%), HYPROMELLOSE]                                                                                                                                                                    \n",
       "3  [Calcium, MICROCRYSTALLINE, CALCIUM, FERRIC, TRIACETIN, MPA.S), Biconvex, I;32, CELLULOSE, PHOSPHATE, 2910, Rosuvastatin, CROSPOVIDONE, OXIDE, MAGNESIUM, STEARATE, ANHYDROUS, DIBASIC, MONOHYDRATE, (15, TITANIUM, DIOXIDE, ROSUVASTATIN, RED, LACTOSE, HYPROMELLOSE]                                                                                                                                                                                                      \n",
       "4  [(1600000, GLYCOL, HYDROXYPROPYL, SILICON, flatfaced;, WAMW), Zolmitriptan, MICROCRYSTALLINE, TYPE, FERRIC, BICARBONATE, CELLULOSE, ZOMIG;5, SODIUM, POLYETHYLENE, Disintegrating, GLYCOLATE, ASPARTAME, AT, ACID, 8000, YELLOW, filmcoated, WATER, CROSPOVIDONE, Z, MAGNESIUM, OXIDE, CITRIC, ZOLMITRIPTAN, STEARATE, ANHYDROUS, A, bevelled, TITANIUM, (15, DIOXIDE, ORANGE, MANNITOL, ZOMIG;25, LACTOSE, RED, biconvex;, Z;5, STARCH, POTATO, MPA.S, 5%), 400, Orally]   \n",
       "\n",
       "   count  year  \n",
       "0  30     2018  \n",
       "1  29     2018  \n",
       "2  32     2018  \n",
       "3  26     2018  \n",
       "4  50     2018  "
      ]
     },
     "execution_count": 10,
     "metadata": {},
     "output_type": "execute_result"
    }
   ],
   "source": [
    "out.head() # a quick inspection of the data"
   ]
  },
  {
   "cell_type": "code",
   "execution_count": 11,
   "metadata": {},
   "outputs": [],
   "source": [
    "drug_list = out['drug'].tolist()"
   ]
  },
  {
   "cell_type": "code",
   "execution_count": 12,
   "metadata": {},
   "outputs": [],
   "source": [
    "drug_list = set(drug_list) # remove duplicate drug names by passing through a set\n",
    "drug_list = list(drug_list)"
   ]
  },
  {
   "cell_type": "markdown",
   "metadata": {},
   "source": [
    "Prepare a final Pandas dataframe formatted as requested by the assignment, displaying the year (date), list of drug names, and the average number of ingredients."
   ]
  },
  {
   "cell_type": "code",
   "execution_count": 13,
   "metadata": {},
   "outputs": [],
   "source": [
    "out_final = pd.DataFrame()\n",
    "out_final['date'] = out['year'].unique()\n",
    "out_final['drug_names'] = str(drug_list)\n",
    "out_final['avg_number_of_ingredients'] = round(out['count'].mean()) #calculate the average number of ingredients for the year"
   ]
  },
  {
   "cell_type": "code",
   "execution_count": 14,
   "metadata": {},
   "outputs": [
    {
     "data": {
      "text/html": [
       "<div>\n",
       "<style scoped>\n",
       "    .dataframe tbody tr th:only-of-type {\n",
       "        vertical-align: middle;\n",
       "    }\n",
       "\n",
       "    .dataframe tbody tr th {\n",
       "        vertical-align: top;\n",
       "    }\n",
       "\n",
       "    .dataframe thead th {\n",
       "        text-align: right;\n",
       "    }\n",
       "</style>\n",
       "<table border=\"1\" class=\"dataframe\">\n",
       "  <thead>\n",
       "    <tr style=\"text-align: right;\">\n",
       "      <th></th>\n",
       "      <th>date</th>\n",
       "      <th>drug_names</th>\n",
       "      <th>avg_number_of_ingredients</th>\n",
       "    </tr>\n",
       "  </thead>\n",
       "  <tbody>\n",
       "    <tr>\n",
       "      <th>0</th>\n",
       "      <td>2018</td>\n",
       "      <td>['CANDESARTAN CILEXETIL', 'BUDESONIDE', 'ZOLMITRIPTAN', 'ROSUVASTATIN CALCIUM', 'OSIMERTINIB']</td>\n",
       "      <td>31.0</td>\n",
       "    </tr>\n",
       "  </tbody>\n",
       "</table>\n",
       "</div>"
      ],
      "text/plain": [
       "   date  \\\n",
       "0  2018   \n",
       "\n",
       "                                                                                       drug_names  \\\n",
       "0  ['CANDESARTAN CILEXETIL', 'BUDESONIDE', 'ZOLMITRIPTAN', 'ROSUVASTATIN CALCIUM', 'OSIMERTINIB']   \n",
       "\n",
       "   avg_number_of_ingredients  \n",
       "0  31.0                       "
      ]
     },
     "execution_count": 14,
     "metadata": {},
     "output_type": "execute_result"
    }
   ],
   "source": [
    "out_final"
   ]
  },
  {
   "cell_type": "markdown",
   "metadata": {},
   "source": [
    "### Note!\n",
    "The calculation of the average number of ingredients above is *woefully* inaccurate! The OpenFDA API returns a white spaced list of chemical names under spl_product_data_elements. An ontology of these names is required in order to correctly quantify them. Due to the time constraints of this exercise it is not possible to build such an ontology, therefore spaces between words were converted to comma separated strings in order to create a list of words with which to calculate an average number of entries per drug. At the time of writing, the author acknowledges that this is proof of concept only and is the average number of terms, and *not* the average number of chemical ingredients."
   ]
  },
  {
   "cell_type": "markdown",
   "metadata": {},
   "source": [
    "___"
   ]
  },
  {
   "cell_type": "markdown",
   "metadata": {},
   "source": [
    "# Part B"
   ]
  },
  {
   "cell_type": "markdown",
   "metadata": {},
   "source": [
    "Repeat the same analysis, calculate the average number of ingredients *per year and per delivery route* for all manufacturers. "
   ]
  },
  {
   "cell_type": "code",
   "execution_count": 15,
   "metadata": {},
   "outputs": [
    {
     "data": {
      "text/html": [
       "<div>\n",
       "<style scoped>\n",
       "    .dataframe tbody tr th:only-of-type {\n",
       "        vertical-align: middle;\n",
       "    }\n",
       "\n",
       "    .dataframe tbody tr th {\n",
       "        vertical-align: top;\n",
       "    }\n",
       "\n",
       "    .dataframe thead th {\n",
       "        text-align: right;\n",
       "    }\n",
       "</style>\n",
       "<table border=\"1\" class=\"dataframe\">\n",
       "  <thead>\n",
       "    <tr style=\"text-align: right;\">\n",
       "      <th></th>\n",
       "      <th>year</th>\n",
       "      <th>route</th>\n",
       "      <th>avg_number_of_ingredients</th>\n",
       "    </tr>\n",
       "  </thead>\n",
       "  <tbody>\n",
       "    <tr>\n",
       "      <th>0</th>\n",
       "      <td>2018</td>\n",
       "      <td>ORAL</td>\n",
       "      <td>33.333333</td>\n",
       "    </tr>\n",
       "    <tr>\n",
       "      <th>1</th>\n",
       "      <td>2018</td>\n",
       "      <td>RESPIRATORY (INHALATION)</td>\n",
       "      <td>7.000000</td>\n",
       "    </tr>\n",
       "  </tbody>\n",
       "</table>\n",
       "</div>"
      ],
      "text/plain": [
       "   year                     route  avg_number_of_ingredients\n",
       "0  2018  ORAL                      33.333333                \n",
       "1  2018  RESPIRATORY (INHALATION)  7.000000                 "
      ]
     },
     "execution_count": 15,
     "metadata": {},
     "output_type": "execute_result"
    }
   ],
   "source": [
    "out_final2 = out.groupby([out['date'].dt.year, 'route'])['count'].mean().to_frame(name = 'avg_number_of_ingredients').reset_index()\n",
    "out_final2.rename(columns={'date':'year'}, inplace=True)\n",
    "out_final2"
   ]
  },
  {
   "cell_type": "markdown",
   "metadata": {},
   "source": [
    "Additional years could be retrived from the openFDA database by constructing a query as above but specifying a larger date range or for each specific year required. There is a limit of 100 requests per call to the API so a loop would need to be constructed to iteratively query the database across time periods involving >100 increments.\n",
    "\n",
    "Due to the time and resource constraints of this assignmentt, 20x data points were retrived between January 1st and December 31st, 2018 to provide a proof of concept data analysis."
   ]
  },
  {
   "cell_type": "markdown",
   "metadata": {},
   "source": [
    "___"
   ]
  },
  {
   "cell_type": "markdown",
   "metadata": {},
   "source": [
    "### How would you code a model to predict the number of ingredients for next year?"
   ]
  },
  {
   "cell_type": "markdown",
   "metadata": {},
   "source": [
    "A linear regression model could be constructed from the counts of average number of ingredients obtained in part A. Such a model could then be used to predict number of ingredients for following years."
   ]
  },
  {
   "cell_type": "code",
   "execution_count": 103,
   "metadata": {},
   "outputs": [],
   "source": [
    "import matplotlib.pyplot as plt\n",
    "import numpy as np\n",
    "from sklearn import datasets, linear_model\n",
    "from sklearn.metrics import mean_squared_error, r2_score"
   ]
  },
  {
   "cell_type": "code",
   "execution_count": 106,
   "metadata": {},
   "outputs": [],
   "source": [
    "years = ['2000', '2001', '2002', '2003', '2004', '2005', '2006', '2007', '2008', '2009', '2010', '2011', '2012', '2013', '2014', '2015', '2016', '2017', '2018', '2019']\n",
    "\n",
    "max_requests = '10' # a small sample of the data for exploration during this exercise\n",
    "pharma = str('\"AstraZeneca\"')\n",
    "out = []\n",
    "\n",
    "for i in years:\n",
    "    query_year = i\n",
    "    URL = str('https://api.fda.gov/drug/label.json?search=effective_time:['+i+'0101+TO+'+i+'1231]+AND+spl_patient_package_insert:'+pharma+'AND+_exists_:spl_product_data_elements+AND+_exists_:openfda+&limit='+max_requests)\n",
    "    data = requests.get(URL).json()\n",
    "    out.append(data)"
   ]
  },
  {
   "cell_type": "code",
   "execution_count": 109,
   "metadata": {},
   "outputs": [],
   "source": [
    "out = pd.DataFrame(out)\n",
    "out = out.dropna(thresh=2) #drop bad data"
   ]
  },
  {
   "cell_type": "code",
   "execution_count": 133,
   "metadata": {},
   "outputs": [],
   "source": [
    "data = out['results']"
   ]
  },
  {
   "cell_type": "code",
   "execution_count": 186,
   "metadata": {},
   "outputs": [
    {
     "data": {
      "text/plain": [
       "8"
      ]
     },
     "execution_count": 186,
     "metadata": {},
     "output_type": "execute_result"
    }
   ],
   "source": [
    "data.iloc[7][0]['effective_time']\n",
    "len(data.index)"
   ]
  },
  {
   "cell_type": "code",
   "execution_count": 204,
   "metadata": {},
   "outputs": [],
   "source": [
    "date = []\n",
    "drug = []\n",
    "ingredients = []\n",
    "\n",
    "for i in range(0,len(data.index)):\n",
    "    date.append(data.iloc[i][0]['effective_time'])\n",
    "    drug.append(data.iloc[i][0]['openfda']['substance_name'])\n",
    "    route.append(data.iloc[i][0]['openfda']['route']) # for part B\n",
    "    ingredients.append(data.iloc[i][0]['spl_product_data_elements'])\n",
    "\n",
    "\n",
    "for i in range(0,len(data.index)):\n",
    "    ingredients[i] = ingredients[i][0].split()\n",
    "    ingredients[i] = list(set(ingredients[i]))\n",
    "    \n",
    "drug = flatten(drug) # flatten the list of lists of drug names.\n",
    "drug = list(drug) #and return as 1 list of drugs names.\n",
    "\n",
    "out = pd.DataFrame()\n",
    "out['date'] = date\n",
    "out['date'] = pd.to_datetime(out['date'])\n",
    "out['drug'] = drug\n",
    "out['ingredients'] = ingredients\n",
    "out['count'] = out['ingredients'].apply(lambda x: len(str(x).split(',')))\n",
    "out['year'] = out['date'].dt.year"
   ]
  },
  {
   "cell_type": "code",
   "execution_count": 219,
   "metadata": {},
   "outputs": [
    {
     "data": {
      "text/html": [
       "<div>\n",
       "<style scoped>\n",
       "    .dataframe tbody tr th:only-of-type {\n",
       "        vertical-align: middle;\n",
       "    }\n",
       "\n",
       "    .dataframe tbody tr th {\n",
       "        vertical-align: top;\n",
       "    }\n",
       "\n",
       "    .dataframe thead th {\n",
       "        text-align: right;\n",
       "    }\n",
       "</style>\n",
       "<table border=\"1\" class=\"dataframe\">\n",
       "  <thead>\n",
       "    <tr style=\"text-align: right;\">\n",
       "      <th></th>\n",
       "      <th>date</th>\n",
       "      <th>drug</th>\n",
       "      <th>ingredients</th>\n",
       "      <th>count</th>\n",
       "      <th>year</th>\n",
       "    </tr>\n",
       "  </thead>\n",
       "  <tbody>\n",
       "    <tr>\n",
       "      <th>0</th>\n",
       "      <td>2009-06-24</td>\n",
       "      <td>BUDESONIDE</td>\n",
       "      <td>[FERROSOFERRIC, SILICON, COLLOIDAL, FERRIC, TRIETHYL, TALC, ENTOCORT;EC;3;mg, opaque, BUDESONIDE, grey, light, ACID, YELLOW, ACETYLTRIBUTYL, Budesonide, GELATIN, OXIDE, TITANIUM, ENTOCORTEC, DIOXIDE, RED, CITRATE, POLYSORBATE, METHACRYLIC, 80]</td>\n",
       "      <td>25</td>\n",
       "      <td>2009</td>\n",
       "    </tr>\n",
       "    <tr>\n",
       "      <th>1</th>\n",
       "      <td>2011-09-06</td>\n",
       "      <td>BUDESONIDE</td>\n",
       "      <td>[Budesonide, PULMICORTFLEXHALER, BUDESONIDE, LACTOSE]</td>\n",
       "      <td>4</td>\n",
       "      <td>2011</td>\n",
       "    </tr>\n",
       "    <tr>\n",
       "      <th>2</th>\n",
       "      <td>2013-10-10</td>\n",
       "      <td>CILOSTAZOL</td>\n",
       "      <td>[Cilostazol, CROSPOVIDONE, off-white, DIOXIDE, SILICON, MAGNESIUM, CELLULOSE,, STEARATE, CORN, MICROCRYSTALLINE, POVIDONES, STARCH,, TEVA;7231, white, to, CILOSTAZOL]</td>\n",
       "      <td>18</td>\n",
       "      <td>2013</td>\n",
       "    </tr>\n",
       "    <tr>\n",
       "      <th>3</th>\n",
       "      <td>2014-05-02</td>\n",
       "      <td>ANASTROZOLE</td>\n",
       "      <td>[GLYCOL, leg, FORM, foot, letter, TYPE, 300, to, with, case), SODIUM, POLYETHYLENE, (upper, right, ARIMIDEX, GLYCOLATE, HYPROMELLOSE,, ANASTROZOLE, Anastrozole, the, consisting, MAGNESIUM, logo, STEARATE, a, A, LACTOSE,, TITANIUM, POVIDONE,, attached, extended, an, DIOXIDE, arrowhead, UNSPECIFIED, STARCH, POTATO, of, adx1]</td>\n",
       "      <td>42</td>\n",
       "      <td>2014</td>\n",
       "    </tr>\n",
       "    <tr>\n",
       "      <th>4</th>\n",
       "      <td>2016-07-05</td>\n",
       "      <td>CANDESARTAN CILEXETIL</td>\n",
       "      <td>[circular, (1600000, biconvex-shaped, off-white, HYDROXYPROPYL, pink, WAMW), ACG;008, GLYCOL,, cilexetil, CALCIUM, FERRIC, Candesartan, to, CELLULOSE, ACL;032, POLYETHYLENE, CORN, ACH;016, shaped, light, white, biconvex, CARBOXYMETHYLCELLULOSE, CANDESARTAN, MAGNESIUM, OXIDE, STEARATE, CILEXETIL, circular;, STARCH,, MONOHYDRATE, RED, LACTOSE, UNSPECIFIED, biconvex-sharped, ACF;004]</td>\n",
       "      <td>39</td>\n",
       "      <td>2016</td>\n",
       "    </tr>\n",
       "    <tr>\n",
       "      <th>5</th>\n",
       "      <td>2017-05-22</td>\n",
       "      <td>ROSUVASTATIN CALCIUM</td>\n",
       "      <td>[MICROCRYSTALLINE, CALCIUM, TRIACETIN, FERRIC, CELLULOSE, PHOSPHATE, HYPROMELLOSE,, calcium, Rosuvastatin, AT, biconvex, CROSPOVIDONE, MAGNESIUM, OXIDE, STEARATE, CRESTOR, MONOHYDRATE, (15, TITANIUM, DIOXIDE, 10;crestor, ROSUVASTATIN, TRIBASIC, LACTOSE, RED, UNSPECIFIED, MPA.S, 5%)]</td>\n",
       "      <td>29</td>\n",
       "      <td>2017</td>\n",
       "    </tr>\n",
       "    <tr>\n",
       "      <th>6</th>\n",
       "      <td>2018-10-22</td>\n",
       "      <td>ROSUVASTATIN CALCIUM</td>\n",
       "      <td>[Calcium, MICROCRYSTALLINE, CALCIUM, FERRIC, TRIACETIN, MPA.S), Biconvex, I;32, CELLULOSE, PHOSPHATE, 2910, AT, Rosuvastatin, CROSPOVIDONE, I;29, OXIDE, MAGNESIUM, STEARATE, ANHYDROUS, DIBASIC, MONOHYDRATE, (15, TITANIUM, DIOXIDE, ROSUVASTATIN, RED, LACTOSE, MPA.S, 5%), HYPROMELLOSE]</td>\n",
       "      <td>30</td>\n",
       "      <td>2018</td>\n",
       "    </tr>\n",
       "    <tr>\n",
       "      <th>7</th>\n",
       "      <td>2019-03-21</td>\n",
       "      <td>ROSUVASTATIN CALCIUM</td>\n",
       "      <td>[Calcium, MICROCRYSTALLINE, CALCIUM, FERRIC, TRIACETIN, MPA.S), Biconvex, I;32, CELLULOSE, PHOSPHATE, 2910, AT, Rosuvastatin, CROSPOVIDONE, OXIDE, MAGNESIUM, STEARATE, ANHYDROUS, DIBASIC, MONOHYDRATE, (15, TITANIUM, DIOXIDE, ROSUVASTATIN, RED, LACTOSE, MPA.S, 5%), HYPROMELLOSE]</td>\n",
       "      <td>29</td>\n",
       "      <td>2019</td>\n",
       "    </tr>\n",
       "  </tbody>\n",
       "</table>\n",
       "</div>"
      ],
      "text/plain": [
       "        date                   drug  \\\n",
       "0 2009-06-24  BUDESONIDE              \n",
       "1 2011-09-06  BUDESONIDE              \n",
       "2 2013-10-10  CILOSTAZOL              \n",
       "3 2014-05-02  ANASTROZOLE             \n",
       "4 2016-07-05  CANDESARTAN CILEXETIL   \n",
       "5 2017-05-22  ROSUVASTATIN CALCIUM    \n",
       "6 2018-10-22  ROSUVASTATIN CALCIUM    \n",
       "7 2019-03-21  ROSUVASTATIN CALCIUM    \n",
       "\n",
       "                                                                                                                                                                                                                                                                                                                                                                                       ingredients  \\\n",
       "0  [FERROSOFERRIC, SILICON, COLLOIDAL, FERRIC, TRIETHYL, TALC, ENTOCORT;EC;3;mg, opaque, BUDESONIDE, grey, light, ACID, YELLOW, ACETYLTRIBUTYL, Budesonide, GELATIN, OXIDE, TITANIUM, ENTOCORTEC, DIOXIDE, RED, CITRATE, POLYSORBATE, METHACRYLIC, 80]                                                                                                                                               \n",
       "1  [Budesonide, PULMICORTFLEXHALER, BUDESONIDE, LACTOSE]                                                                                                                                                                                                                                                                                                                                             \n",
       "2  [Cilostazol, CROSPOVIDONE, off-white, DIOXIDE, SILICON, MAGNESIUM, CELLULOSE,, STEARATE, CORN, MICROCRYSTALLINE, POVIDONES, STARCH,, TEVA;7231, white, to, CILOSTAZOL]                                                                                                                                                                                                                            \n",
       "3  [GLYCOL, leg, FORM, foot, letter, TYPE, 300, to, with, case), SODIUM, POLYETHYLENE, (upper, right, ARIMIDEX, GLYCOLATE, HYPROMELLOSE,, ANASTROZOLE, Anastrozole, the, consisting, MAGNESIUM, logo, STEARATE, a, A, LACTOSE,, TITANIUM, POVIDONE,, attached, extended, an, DIOXIDE, arrowhead, UNSPECIFIED, STARCH, POTATO, of, adx1]                                                              \n",
       "4  [circular, (1600000, biconvex-shaped, off-white, HYDROXYPROPYL, pink, WAMW), ACG;008, GLYCOL,, cilexetil, CALCIUM, FERRIC, Candesartan, to, CELLULOSE, ACL;032, POLYETHYLENE, CORN, ACH;016, shaped, light, white, biconvex, CARBOXYMETHYLCELLULOSE, CANDESARTAN, MAGNESIUM, OXIDE, STEARATE, CILEXETIL, circular;, STARCH,, MONOHYDRATE, RED, LACTOSE, UNSPECIFIED, biconvex-sharped, ACF;004]   \n",
       "5  [MICROCRYSTALLINE, CALCIUM, TRIACETIN, FERRIC, CELLULOSE, PHOSPHATE, HYPROMELLOSE,, calcium, Rosuvastatin, AT, biconvex, CROSPOVIDONE, MAGNESIUM, OXIDE, STEARATE, CRESTOR, MONOHYDRATE, (15, TITANIUM, DIOXIDE, 10;crestor, ROSUVASTATIN, TRIBASIC, LACTOSE, RED, UNSPECIFIED, MPA.S, 5%)]                                                                                                       \n",
       "6  [Calcium, MICROCRYSTALLINE, CALCIUM, FERRIC, TRIACETIN, MPA.S), Biconvex, I;32, CELLULOSE, PHOSPHATE, 2910, AT, Rosuvastatin, CROSPOVIDONE, I;29, OXIDE, MAGNESIUM, STEARATE, ANHYDROUS, DIBASIC, MONOHYDRATE, (15, TITANIUM, DIOXIDE, ROSUVASTATIN, RED, LACTOSE, MPA.S, 5%), HYPROMELLOSE]                                                                                                      \n",
       "7  [Calcium, MICROCRYSTALLINE, CALCIUM, FERRIC, TRIACETIN, MPA.S), Biconvex, I;32, CELLULOSE, PHOSPHATE, 2910, AT, Rosuvastatin, CROSPOVIDONE, OXIDE, MAGNESIUM, STEARATE, ANHYDROUS, DIBASIC, MONOHYDRATE, (15, TITANIUM, DIOXIDE, ROSUVASTATIN, RED, LACTOSE, MPA.S, 5%), HYPROMELLOSE]                                                                                                            \n",
       "\n",
       "   count  year  \n",
       "0  25     2009  \n",
       "1  4      2011  \n",
       "2  18     2013  \n",
       "3  42     2014  \n",
       "4  39     2016  \n",
       "5  29     2017  \n",
       "6  30     2018  \n",
       "7  29     2019  "
      ]
     },
     "execution_count": 219,
     "metadata": {},
     "output_type": "execute_result"
    }
   ],
   "source": [
    "out"
   ]
  },
  {
   "cell_type": "markdown",
   "metadata": {},
   "source": [
    "For the purposes of this exercise, a synthetic data set was constructed, simulating 20 years of counts of average number of ingredients per year, similar to that extracted from openFDA in part A."
   ]
  },
  {
   "cell_type": "code",
   "execution_count": 234,
   "metadata": {},
   "outputs": [
    {
     "data": {
      "text/plain": [
       "([2009, 2011, 2013, 2014, 2016, 2017, 2018, 2019],\n",
       " [25, 4, 18, 42, 39, 29, 30, 29])"
      ]
     },
     "execution_count": 234,
     "metadata": {},
     "output_type": "execute_result"
    }
   ],
   "source": [
    "x_dat = list(out['year'])\n",
    "y_dat = list(out['count'])\n",
    "x_dat, y_dat"
   ]
  },
  {
   "cell_type": "code",
   "execution_count": 235,
   "metadata": {},
   "outputs": [
    {
     "data": {
      "text/plain": [
       "Text(0, 0.5, 'count')"
      ]
     },
     "execution_count": 235,
     "metadata": {},
     "output_type": "execute_result"
    },
    {
     "data": {
      "image/png": "[encoded data removed]",
      "text/plain": [
       "<Figure size 432x288 with 1 Axes>"
      ]
     },
     "metadata": {
      "image/png": {
       "height": 277,
       "width": 382
      },
      "needs_background": "light"
     },
     "output_type": "display_data"
    }
   ],
   "source": [
    "# a quick plot of the synthetic data set\n",
    "plt.scatter(x_dat, y_dat,  color='blue');\n",
    "plt.xticks(rotation=45)\n",
    "plt.xlabel('year')\n",
    "plt.ylabel('count')"
   ]
  },
  {
   "cell_type": "code",
   "execution_count": 236,
   "metadata": {},
   "outputs": [],
   "source": [
    "# import required machine learning libraries\n",
    "from sklearn import linear_model\n",
    "from sklearn.model_selection import train_test_split\n",
    "from sklearn.preprocessing import LabelEncoder\n",
    "import lightgbm as lgb"
   ]
  },
  {
   "cell_type": "code",
   "execution_count": 237,
   "metadata": {},
   "outputs": [],
   "source": [
    "x_dat_enc = LabelEncoder().fit_transform(x_dat) #one hot encoding of the categorical year labels\n",
    "x_dat_enc = x_dat_enc.reshape(-1, 1)"
   ]
  },
  {
   "cell_type": "code",
   "execution_count": 238,
   "metadata": {},
   "outputs": [],
   "source": [
    "X_train, X_test, y_train, y_test = train_test_split(x_dat_enc, y_dat, test_size=0.2)"
   ]
  },
  {
   "cell_type": "code",
   "execution_count": 239,
   "metadata": {},
   "outputs": [],
   "source": [
    "# create dataset for lightgbm\n",
    "lgb_train = lgb.Dataset(X_train, y_train)\n",
    "lgb_eval = lgb.Dataset(X_test, y_test, reference=lgb_train)"
   ]
  },
  {
   "cell_type": "code",
   "execution_count": 240,
   "metadata": {},
   "outputs": [
    {
     "name": "stdout",
     "output_type": "stream",
     "text": [
      "Starting training...\n",
      "[1]\tvalid_0's l2: 116.5\tvalid_0's l1: 10.5\n",
      "Training until validation scores don't improve for 5 rounds.\n",
      "[2]\tvalid_0's l2: 119.101\tvalid_0's l1: 10.5\n",
      "[3]\tvalid_0's l2: 121.989\tvalid_0's l1: 10.5\n",
      "[4]\tvalid_0's l2: 125.111\tvalid_0's l1: 10.5\n",
      "[5]\tvalid_0's l2: 128.416\tvalid_0's l1: 10.5\n",
      "[6]\tvalid_0's l2: 138.066\tvalid_0's l1: 10.5\n",
      "Early stopping, best iteration is:\n",
      "[1]\tvalid_0's l2: 116.5\tvalid_0's l1: 10.5\n",
      "Starting predicting...\n",
      "The rmse of prediction is: 10.793516572461451\n"
     ]
    }
   ],
   "source": [
    "# specify your configurations as a dict\n",
    "params = {\n",
    "    'boosting_type': 'gbdt',\n",
    "    'objective': 'regression',\n",
    "    'metric': {'l2', 'l1'},\n",
    "    'num_leaves': 31,\n",
    "    'learning_rate': 0.05,\n",
    "    'feature_fraction': 0.9,\n",
    "    'bagging_fraction': 0.8,\n",
    "    'bagging_freq': 5,\n",
    "    'verbose': 0,\n",
    "    'min_data': 1,\n",
    "    'random_seed': 7448\n",
    "}\n",
    "\n",
    "evals_result = {} # to record eval results for plotting\n",
    "\n",
    "print('Starting training...')\n",
    "# train\n",
    "gbm = lgb.train(params,\n",
    "                lgb_train,\n",
    "                num_boost_round=100,\n",
    "                valid_sets=lgb_eval,\n",
    "                early_stopping_rounds=5,\n",
    "                evals_result=evals_result)\n",
    "\n",
    "print('Starting predicting...')\n",
    "# predict\n",
    "y_pred = gbm.predict(X_test, num_iteration=gbm.best_iteration)\n",
    "# eval\n",
    "print('The rmse of prediction is:', mean_squared_error(y_test, y_pred) ** 0.5)"
   ]
  },
  {
   "cell_type": "code",
   "execution_count": 241,
   "metadata": {},
   "outputs": [
    {
     "data": {
      "image/png": "[encoded data removed]",
      "text/plain": [
       "<Figure size 432x288 with 1 Axes>"
      ]
     },
     "metadata": {
      "image/png": {
       "height": 251,
       "width": 369
      },
      "needs_background": "light"
     },
     "output_type": "display_data"
    }
   ],
   "source": [
    "# Plot the model predictions vs test data\n",
    "plt.scatter(X_test, y_test,  color='blue') # test data in blue\n",
    "plt.scatter(X_test, y_pred, color='red', linewidth=3) # predictions in red\n",
    "\n",
    "plt.show()"
   ]
  },
  {
   "cell_type": "code",
   "execution_count": 242,
   "metadata": {},
   "outputs": [
    {
     "name": "stdout",
     "output_type": "stream",
     "text": [
      "The average number of ingredients predicted for the year 2020 = 27.0\n"
     ]
    }
   ],
   "source": [
    "new_year = np.array([[21]]) # make a prediction for 2020.\n",
    "new_pred = gbm.predict(new_year, num_iteration=gbm.best_iteration)\n",
    "print('The average number of ingredients predicted for the year 2020 =',round(list(new_pred)[0]))"
   ]
  },
  {
   "cell_type": "code",
   "execution_count": null,
   "metadata": {},
   "outputs": [],
   "source": []
  }
 ],
 "metadata": {
  "kernelspec": {
   "display_name": "Python 3",
   "language": "python",
   "name": "python3"
  },
  "language_info": {
   "codemirror_mode": {
    "name": "ipython",
    "version": 3
   },
   "file_extension": ".py",
   "mimetype": "text/x-python",
   "name": "python",
   "nbconvert_exporter": "python",
   "pygments_lexer": "ipython3",
   "version": "3.7.3"
  }
 },
 "nbformat": 4,
 "nbformat_minor": 2
}
